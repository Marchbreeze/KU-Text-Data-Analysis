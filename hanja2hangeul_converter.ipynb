{
 "cells": [
  {
   "cell_type": "code",
   "execution_count": 15,
   "metadata": {
    "id": "HdjyRKBTg_gH"
   },
   "outputs": [],
   "source": [
    "# 음절의 / 문자들 제거 ((주) 제거한 SOUND 활용)\n",
    "with open(\"sound.txt\") as fp, open(\"sound2.txt\", \"w\") as rs:\n",
    "  for line in fp:\n",
    "    cleaned = line.split('/')[0]\n",
    "    rs.write(cleaned + '\\n')"
   ]
  },
  {
   "cell_type": "code",
   "execution_count": 3,
   "metadata": {
    "id": "GEe1muO3jZ8N"
   },
   "outputs": [],
   "source": [
    "def is_hangeul(ch):\n",
    "  return ord('가') <= ord(ch) <= ord('힣')"
   ]
  },
  {
   "cell_type": "code",
   "execution_count": 16,
   "metadata": {
    "id": "ucX3lQ-ujoAy"
   },
   "outputs": [],
   "source": [
    "# 음절의 각 줄에서 한글만 남기기\n",
    "with open(\"sound2.txt\") as fp, open(\"sound3.txt\", \"w\") as rs:\n",
    "  for line in fp:\n",
    "    for ch in line:\n",
    "      if is_hangeul(ch):\n",
    "        print(ch, end='', file=rs)\n",
    "    print(file=rs)\n",
    "  rs.close()"
   ]
  },
  {
   "cell_type": "code",
   "execution_count": 17,
   "metadata": {
    "id": "TP2FbwgGln3K"
   },
   "outputs": [],
   "source": [
    "# 코드의 유니코드 형식 변환\n",
    "with open(\"code.txt\") as fp, open(\"code2.txt\", \"w\") as rs:\n",
    "  for line in fp:\n",
    "    print(line.replace('U+', '0x'), end='' , file=rs)"
   ]
  },
  {
   "cell_type": "code",
   "execution_count": 18,
   "metadata": {
    "id": "B0NSEZE8mSg6"
   },
   "outputs": [],
   "source": [
    "# 유니코드의 한자 형식 변환\n",
    "with open(\"code2.txt\") as fp, open(\"code3.txt\", \"w\") as rs:\n",
    "  for line in fp:\n",
    "    print(chr(int(line, base=16)), file=rs)"
   ]
  },
  {
   "cell_type": "code",
   "execution_count": null,
   "metadata": {
    "id": "wQiqZ_wongTJ"
   },
   "outputs": [],
   "source": [
    "# 딕셔너리로 합치기\n",
    "h2h_table = dict()\n",
    "with open(\"code3.txt\") as code, open(\"sound3.txt\") as sound, open(\"hanja2hangeul_table.py\", \"w\") as rs:\n",
    "  for code_line, sound_line in zip(code, sound):\n",
    "    h2h_table[code_line.replace('\\n','')] = sound_line.replace('\\n','')\n",
    "  print(\"hanja2hangeul_table = \", str(h2h_table).replace(', ', ',\\n'), file=rs)"
   ]
  }
 ],
 "metadata": {
  "colab": {
   "provenance": []
  },
  "kernelspec": {
   "display_name": "Python 3",
   "name": "python3"
  },
  "language_info": {
   "name": "python"
  }
 },
 "nbformat": 4,
 "nbformat_minor": 0
}
